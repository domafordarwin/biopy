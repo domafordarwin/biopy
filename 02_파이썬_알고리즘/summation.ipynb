{
 "cells": [
  {
   "cell_type": "markdown",
   "metadata": {},
   "source": [
    "### 목표: 1부터 n까지의 합을 구하는 알고리즘 구현하기\n",
    "### 프로그램적 사고하기\n",
    "\n",
    "1. 필요한 변수 생각하기 -> 합계를 저장할 변수 result_sum\n",
    "2. 1부터 n까지 반복하는 과정  \n",
    "  가. for 구문 이용하기  \n",
    "  나. 1씩 증가시키기  \n",
    "  다. 합 구하기  \n",
    "3. 결과 출력하기 \n"
   ]
  },
  {
   "cell_type": "markdown",
   "metadata": {},
   "source": [
    "[교재의 알고리즘 사고 전개 과정]\n",
    "1. 합을 기록할 변수 s를 만들고 0을 저장한다.\n",
    "2. 변수 i를 만들어 1부터 n까지 숫자를 1을 증가시키며 반복한다.\n",
    "3. [반복 블럭] 기존의 s에 i를 더하여 얻은 값을 다시 s에 저장한다.\n",
    "4. 반복이 끝났을 때 s에 저장된 값이 결과 값이다."
   ]
  },
  {
   "cell_type": "code",
   "execution_count": 2,
   "metadata": {},
   "outputs": [
    {
     "name": "stdout",
     "output_type": "stream",
     "text": [
      "5050\n"
     ]
    }
   ],
   "source": [
    "# My solution to problem 1 on Project Euler\n",
    "result_sum = 0\n",
    "n = 100\n",
    "\n",
    "for i in range(n+1):\n",
    "    result_sum += i\n",
    "\n",
    "print(result_sum)\n"
   ]
  },
  {
   "cell_type": "code",
   "execution_count": 3,
   "metadata": {},
   "outputs": [
    {
     "name": "stdout",
     "output_type": "stream",
     "text": [
      "5050\n",
      "500500\n"
     ]
    }
   ],
   "source": [
    "# 교재이 솔루션, 함수를 이용함\n",
    "\n",
    "def sum_of_n(n):\n",
    "    s = 0\n",
    "    for i in range(1, n+1):\n",
    "        s = s + i\n",
    "    return s\n",
    "\n",
    "print(sum_of_n(100))\n",
    "print(sum_of_n(1000))\n"
   ]
  },
  {
   "cell_type": "code",
   "execution_count": 4,
   "metadata": {},
   "outputs": [
    {
     "name": "stdout",
     "output_type": "stream",
     "text": [
      "5050\n",
      "500500\n"
     ]
    }
   ],
   "source": [
    "# 교재의 또 다른 솔루션, 수학적인 방법을 이용함\n",
    "\n",
    "def sum_of_n(n):\n",
    "    return n * (n + 1) // 2\n",
    "\n",
    "print(sum_of_n(100))\n",
    "print(sum_of_n(1000))\n"
   ]
  },
  {
   "cell_type": "code",
   "execution_count": 5,
   "metadata": {},
   "outputs": [
    {
     "name": "stdout",
     "output_type": "stream",
     "text": [
      "5050\n",
      "500500\n"
     ]
    }
   ],
   "source": [
    "# 네 번째 솔루션, 재귀함수를 이용함\n",
    "\n",
    "def sum_of_n(n):\n",
    "    if n == 0:\n",
    "        return 0\n",
    "    return n + sum_of_n(n-1)\n",
    "\n",
    "print(sum_of_n(100))\n",
    "print(sum_of_n(1000))\n"
   ]
  },
  {
   "cell_type": "code",
   "execution_count": 6,
   "metadata": {},
   "outputs": [
    {
     "name": "stdout",
     "output_type": "stream",
     "text": [
      "5050\n",
      "500500\n"
     ]
    }
   ],
   "source": [
    "# 다섯 번째 솔루션, sum 함수를 이용함\n",
    "\n",
    "def sum_of_n(n):\n",
    "    return sum(range(1, n+1))\n",
    "\n",
    "print(sum_of_n(100))\n",
    "print(sum_of_n(1000))\n"
   ]
  },
  {
   "cell_type": "code",
   "execution_count": 7,
   "metadata": {},
   "outputs": [
    {
     "name": "stdout",
     "output_type": "stream",
     "text": [
      "5050\n",
      "500500\n"
     ]
    }
   ],
   "source": [
    "# 여섯 번째 솔루션, sum 함수를 이용함\n",
    "\n",
    "def sum_of_n(n):\n",
    "    return sum([i for i in range(1, n+1)])\n",
    "\n",
    "print(sum_of_n(100))\n",
    "print(sum_of_n(1000))\n"
   ]
  },
  {
   "cell_type": "code",
   "execution_count": 8,
   "metadata": {},
   "outputs": [
    {
     "name": "stdout",
     "output_type": "stream",
     "text": [
      "5050\n",
      "500500\n"
     ]
    }
   ],
   "source": [
    "# 일곱 번째 솔루션, sum 함수를 이용함\n",
    "\n",
    "def sum_of_n(n):\n",
    "    return sum({i for i in range(1, n+1)})\n",
    "\n",
    "print(sum_of_n(100))\n",
    "print(sum_of_n(1000))\n",
    "\n",
    "\n"
   ]
  },
  {
   "cell_type": "code",
   "execution_count": 9,
   "metadata": {},
   "outputs": [
    {
     "name": "stdout",
     "output_type": "stream",
     "text": [
      "5050\n",
      "500500\n"
     ]
    }
   ],
   "source": [
    "# 여덟 번째 솔루션, sum 함수를 이용함\n",
    "\n",
    "def sum_of_n(n):\n",
    "    return sum((i for i in range(1, n+1)))\n",
    "\n",
    "print(sum_of_n(100))\n",
    "print(sum_of_n(1000))\n"
   ]
  },
  {
   "cell_type": "code",
   "execution_count": 13,
   "metadata": {},
   "outputs": [
    {
     "name": "stdout",
     "output_type": "stream",
     "text": [
      "5050\n",
      "500500\n"
     ]
    }
   ],
   "source": [
    "# 아홉 번째 솔루션, sum 함수를 이용함\n",
    "\n",
    "def sum_of_n(n):\n",
    "    return sum(map(int, range(1, n+1)))\n",
    "\n",
    "print(sum_of_n(100))\n",
    "print(sum_of_n(1000))\n"
   ]
  },
  {
   "cell_type": "code",
   "execution_count": 2,
   "metadata": {},
   "outputs": [
    {
     "ename": "NameError",
     "evalue": "name 'sum_of_n' is not defined",
     "output_type": "error",
     "traceback": [
      "\u001b[1;31m---------------------------------------------------------------------------\u001b[0m",
      "\u001b[1;31mNameError\u001b[0m                                 Traceback (most recent call last)",
      "Cell \u001b[1;32mIn[2], line 25\u001b[0m\n\u001b[0;32m     22\u001b[0m n \u001b[38;5;241m=\u001b[39m \u001b[38;5;241m10\u001b[39m\u001b[38;5;241m*\u001b[39m\u001b[38;5;241m*\u001b[39m\u001b[38;5;241m10\u001b[39m  \u001b[38;5;66;03m# 큰 숫자로 테스트\u001b[39;00m\n\u001b[0;32m     24\u001b[0m \u001b[38;5;28;01mfor\u001b[39;00m name, func \u001b[38;5;129;01min\u001b[39;00m functions:\n\u001b[1;32m---> 25\u001b[0m     result, elapsed \u001b[38;5;241m=\u001b[39m \u001b[43mmeasure_time\u001b[49m\u001b[43m(\u001b[49m\u001b[43mfunc\u001b[49m\u001b[43m,\u001b[49m\u001b[43m \u001b[49m\u001b[43mn\u001b[49m\u001b[43m)\u001b[49m\n\u001b[0;32m     26\u001b[0m     \u001b[38;5;28mprint\u001b[39m(\u001b[38;5;124mf\u001b[39m\u001b[38;5;124m\"\u001b[39m\u001b[38;5;132;01m{\u001b[39;00mname\u001b[38;5;132;01m}\u001b[39;00m\u001b[38;5;124m: \u001b[39m\u001b[38;5;132;01m{\u001b[39;00melapsed\u001b[38;5;132;01m:\u001b[39;00m\u001b[38;5;124m.6f\u001b[39m\u001b[38;5;132;01m}\u001b[39;00m\u001b[38;5;124m sec\u001b[39m\u001b[38;5;124m\"\u001b[39m)\n",
      "Cell \u001b[1;32mIn[2], line 7\u001b[0m, in \u001b[0;36mmeasure_time\u001b[1;34m(func, n)\u001b[0m\n\u001b[0;32m      5\u001b[0m \u001b[38;5;28;01mdef\u001b[39;00m\u001b[38;5;250m \u001b[39m\u001b[38;5;21mmeasure_time\u001b[39m(func, n):\n\u001b[0;32m      6\u001b[0m     start \u001b[38;5;241m=\u001b[39m time\u001b[38;5;241m.\u001b[39mtime()\n\u001b[1;32m----> 7\u001b[0m     result \u001b[38;5;241m=\u001b[39m \u001b[43mfunc\u001b[49m\u001b[43m(\u001b[49m\u001b[43mn\u001b[49m\u001b[43m)\u001b[49m\n\u001b[0;32m      8\u001b[0m     end \u001b[38;5;241m=\u001b[39m time\u001b[38;5;241m.\u001b[39mtime()\n\u001b[0;32m      9\u001b[0m     \u001b[38;5;28;01mreturn\u001b[39;00m result, end \u001b[38;5;241m-\u001b[39m start\n",
      "Cell \u001b[1;32mIn[2], line 12\u001b[0m, in \u001b[0;36m<lambda>\u001b[1;34m(n)\u001b[0m\n\u001b[0;32m      8\u001b[0m     end \u001b[38;5;241m=\u001b[39m time\u001b[38;5;241m.\u001b[39mtime()\n\u001b[0;32m      9\u001b[0m     \u001b[38;5;28;01mreturn\u001b[39;00m result, end \u001b[38;5;241m-\u001b[39m start\n\u001b[0;32m     11\u001b[0m functions \u001b[38;5;241m=\u001b[39m [\n\u001b[1;32m---> 12\u001b[0m     (\u001b[38;5;124m\"\u001b[39m\u001b[38;5;124mLoop\u001b[39m\u001b[38;5;124m\"\u001b[39m, \u001b[38;5;28;01mlambda\u001b[39;00m n: \u001b[43msum_of_n\u001b[49m(n)),\n\u001b[0;32m     13\u001b[0m     (\u001b[38;5;124m\"\u001b[39m\u001b[38;5;124mFormula\u001b[39m\u001b[38;5;124m\"\u001b[39m, \u001b[38;5;28;01mlambda\u001b[39;00m n: n \u001b[38;5;241m*\u001b[39m (n \u001b[38;5;241m+\u001b[39m \u001b[38;5;241m1\u001b[39m) \u001b[38;5;241m/\u001b[39m\u001b[38;5;241m/\u001b[39m \u001b[38;5;241m2\u001b[39m),\n\u001b[0;32m     14\u001b[0m     (\u001b[38;5;124m\"\u001b[39m\u001b[38;5;124mRecursion\u001b[39m\u001b[38;5;124m\"\u001b[39m, \u001b[38;5;28;01mlambda\u001b[39;00m n: sum_of_n(n) \u001b[38;5;28;01mif\u001b[39;00m n \u001b[38;5;241m<\u001b[39m \u001b[38;5;241m1000\u001b[39m \u001b[38;5;28;01melse\u001b[39;00m \u001b[38;5;124m\"\u001b[39m\u001b[38;5;124mToo slow\u001b[39m\u001b[38;5;124m\"\u001b[39m),  \u001b[38;5;66;03m# 재귀 깊이 제한 고려\u001b[39;00m\n\u001b[0;32m     15\u001b[0m     (\u001b[38;5;124m\"\u001b[39m\u001b[38;5;124mSum with range\u001b[39m\u001b[38;5;124m\"\u001b[39m, \u001b[38;5;28;01mlambda\u001b[39;00m n: \u001b[38;5;28msum\u001b[39m(\u001b[38;5;28mrange\u001b[39m(\u001b[38;5;241m1\u001b[39m, n\u001b[38;5;241m+\u001b[39m\u001b[38;5;241m1\u001b[39m))),\n\u001b[0;32m     16\u001b[0m     (\u001b[38;5;124m\"\u001b[39m\u001b[38;5;124mList Comprehension\u001b[39m\u001b[38;5;124m\"\u001b[39m, \u001b[38;5;28;01mlambda\u001b[39;00m n: \u001b[38;5;28msum\u001b[39m([i \u001b[38;5;28;01mfor\u001b[39;00m i \u001b[38;5;129;01min\u001b[39;00m \u001b[38;5;28mrange\u001b[39m(\u001b[38;5;241m1\u001b[39m, n\u001b[38;5;241m+\u001b[39m\u001b[38;5;241m1\u001b[39m)])),\n\u001b[0;32m     17\u001b[0m     (\u001b[38;5;124m\"\u001b[39m\u001b[38;5;124mSet Comprehension\u001b[39m\u001b[38;5;124m\"\u001b[39m, \u001b[38;5;28;01mlambda\u001b[39;00m n: \u001b[38;5;28msum\u001b[39m({i \u001b[38;5;28;01mfor\u001b[39;00m i \u001b[38;5;129;01min\u001b[39;00m \u001b[38;5;28mrange\u001b[39m(\u001b[38;5;241m1\u001b[39m, n\u001b[38;5;241m+\u001b[39m\u001b[38;5;241m1\u001b[39m)})),\n\u001b[0;32m     18\u001b[0m     (\u001b[38;5;124m\"\u001b[39m\u001b[38;5;124mGenerator Expression\u001b[39m\u001b[38;5;124m\"\u001b[39m, \u001b[38;5;28;01mlambda\u001b[39;00m n: \u001b[38;5;28msum\u001b[39m((i \u001b[38;5;28;01mfor\u001b[39;00m i \u001b[38;5;129;01min\u001b[39;00m \u001b[38;5;28mrange\u001b[39m(\u001b[38;5;241m1\u001b[39m, n\u001b[38;5;241m+\u001b[39m\u001b[38;5;241m1\u001b[39m)))),\n\u001b[0;32m     19\u001b[0m     (\u001b[38;5;124m\"\u001b[39m\u001b[38;5;124mMap Function\u001b[39m\u001b[38;5;124m\"\u001b[39m, \u001b[38;5;28;01mlambda\u001b[39;00m n: \u001b[38;5;28msum\u001b[39m(\u001b[38;5;28mmap\u001b[39m(\u001b[38;5;28mint\u001b[39m, \u001b[38;5;28mrange\u001b[39m(\u001b[38;5;241m1\u001b[39m, n\u001b[38;5;241m+\u001b[39m\u001b[38;5;241m1\u001b[39m))))\n\u001b[0;32m     20\u001b[0m ]\n\u001b[0;32m     22\u001b[0m n \u001b[38;5;241m=\u001b[39m \u001b[38;5;241m10\u001b[39m\u001b[38;5;241m*\u001b[39m\u001b[38;5;241m*\u001b[39m\u001b[38;5;241m10\u001b[39m  \u001b[38;5;66;03m# 큰 숫자로 테스트\u001b[39;00m\n\u001b[0;32m     24\u001b[0m \u001b[38;5;28;01mfor\u001b[39;00m name, func \u001b[38;5;129;01min\u001b[39;00m functions:\n",
      "\u001b[1;31mNameError\u001b[0m: name 'sum_of_n' is not defined"
     ]
    }
   ],
   "source": [
    "# 위에 제시된 솔루션들을 이용해서 1000000까지의 합을 구할 때 시간 복잡도를 비교하기\n",
    "\n",
    "import time\n",
    "\n",
    "def measure_time(func, n):\n",
    "    start = time.time()\n",
    "    result = func(n)\n",
    "    end = time.time()\n",
    "    return result, end - start\n",
    "\n",
    "functions = [\n",
    "    (\"Loop\", lambda n: sum_of_n(n)),\n",
    "    (\"Formula\", lambda n: n * (n + 1) // 2),\n",
    "    (\"Recursion\", lambda n: sum_of_n(n) if n < 1000 else \"Too slow\"),  # 재귀 깊이 제한 고려\n",
    "    (\"Sum with range\", lambda n: sum(range(1, n+1))),\n",
    "    (\"List Comprehension\", lambda n: sum([i for i in range(1, n+1)])),\n",
    "    (\"Set Comprehension\", lambda n: sum({i for i in range(1, n+1)})),\n",
    "    (\"Generator Expression\", lambda n: sum((i for i in range(1, n+1)))),\n",
    "    (\"Map Function\", lambda n: sum(map(int, range(1, n+1))))\n",
    "]\n",
    "\n",
    "n = 10**10  # 큰 숫자로 테스트\n",
    "\n",
    "for name, func in functions:\n",
    "    result, elapsed = measure_time(func, n)\n",
    "    print(f\"{name}: {elapsed:.6f} sec\")\n",
    "\n"
   ]
  },
  {
   "cell_type": "code",
   "execution_count": null,
   "metadata": {},
   "outputs": [],
   "source": []
  }
 ],
 "metadata": {
  "kernelspec": {
   "display_name": "biopy",
   "language": "python",
   "name": "python3"
  },
  "language_info": {
   "codemirror_mode": {
    "name": "ipython",
    "version": 3
   },
   "file_extension": ".py",
   "mimetype": "text/x-python",
   "name": "python",
   "nbconvert_exporter": "python",
   "pygments_lexer": "ipython3",
   "version": "3.12.8"
  }
 },
 "nbformat": 4,
 "nbformat_minor": 2
}
