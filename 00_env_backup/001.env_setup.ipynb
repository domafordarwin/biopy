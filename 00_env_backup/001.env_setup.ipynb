{
 "cells": [
  {
   "cell_type": "markdown",
   "metadata": {},
   "source": [
    "# 환경 변수란?\n",
    "\n",
    "* 운영체제에서 프로세스에 대한 동적인 설정 정보를 제공하는 문자열 값\n",
    "* 파이썬에서는 os 모듈을 통해 환경 변수에 접근하고 조작할 수 있음\n",
    "* os.environ은 내부적으로는 사전과 매우 비슷하게 동작하므로, 대부분의 경우에는 파이썬의 dict 타입처럼 사용할 수 있음\n",
    "    * keys() / values() / items() 함수를 이용할 수 있다는 의미\n",
    "* 환경 변수를 이용한 작업 예시\n",
    "    * 경로 설정\n",
    "    * 설정 옵션: 소프트웨어 설정에 필요한 설정 값 제공공\n",
    "    * 보안 정보: 데이터베이스 연결 문자열이나 API키와 같은 민감한 정보를 코드에 넣는 대신 환경 변수로 설정하여 보안을 강화할 수 있음\n",
    "    * 유의점: os.environ에 직접 저장한 값은 프로세스 환경 변수로 프로세스 내에서만 영향을 주며 전체 시스템에는 영향을 주지 않음\n"
   ]
  },
  {
   "cell_type": "markdown",
   "metadata": {},
   "source": [
    "## 환경 변수 읽기"
   ]
  },
  {
   "cell_type": "code",
   "execution_count": 7,
   "metadata": {},
   "outputs": [
    {
     "name": "stdout",
     "output_type": "stream",
     "text": [
      "get()를 이용한 홈 디렉토리: C:\\Users\\domam\n",
      "[]를 이용한 홈 디렉토리: C:\\Users\\domam\n",
      "<class 'str'>\n",
      "<class 'str'>\n",
      "C:\\Users\\domam\n"
     ]
    }
   ],
   "source": [
    "# 시스템 명령어 및 환경 변수를 위한 모듈\n",
    "import os\n",
    "\n",
    "# 전체 환경 변수 읽기\n",
    "env = os.environ\n",
    "\n",
    "# 홈 디렉토리만 읽어오기\n",
    "home_dir = os.environ.get('HOME')\n",
    "home_dir2 = os.environ['HOME']\n",
    "\n",
    "print(f'get()를 이용한 홈 디렉토리: {home_dir}')\n",
    "print(f'[]를 이용한 홈 디렉토리: {home_dir2}')\n"
   ]
  },
  {
   "cell_type": "code",
   "execution_count": 18,
   "metadata": {},
   "outputs": [
    {
     "name": "stdout",
     "output_type": "stream",
     "text": [
      "ADD_PATH=C:\\WorkSpace\\01_Programing\\cmder\n",
      "ADD_TO_PATH=C:\\WorkSpace\\01_Programing\\cmder\n",
      "ALIASES=C:\\WorkSpace\\01_Programing\\cmder\\config\\user_aliases.cmd\n",
      "ALLUSERSPROFILE=C:\\ProgramData\n",
      "ANSICON=121x1000 (121x26)\n",
      "ANSICON_DEF=7\n",
      "APPDATA=C:\\Users\\domam\\AppData\\Roaming\n",
      "APPLICATIONINSIGHTS_CONFIGURATION_CONTENT={}\n",
      "APPLICATION_INSIGHTS_NO_DIAGNOSTIC_CHANNEL=1\n",
      "ARCHITECTURE_BITS=64\n"
     ]
    }
   ],
   "source": [
    "# 환경 변수가 딕셔너리 구조적 특징을 가지고 있기 때문에\n",
    "import os\n",
    "index = 0\n",
    "\n",
    "for key, value in os.environ.items():\n",
    "    if index < 10:\n",
    "        index += 1\n",
    "        print(f'{key}={value}')\n",
    "    else:\n",
    "        break"
   ]
  },
  {
   "cell_type": "markdown",
   "metadata": {},
   "source": [
    "## 환경 변수 설정하기"
   ]
  },
  {
   "cell_type": "code",
   "execution_count": 20,
   "metadata": {},
   "outputs": [
    {
     "name": "stdout",
     "output_type": "stream",
     "text": [
      "Top Secret_skdrmfkdfjla#fdjfal23\n"
     ]
    }
   ],
   "source": [
    "import os\n",
    "\n",
    "# 새 환경 변수 설정\n",
    "os.environ['MY_CUSTOM_VAR'] = 'Top Secret_skdrmfkdfjla#fdjfal23'\n",
    "\n",
    "# 설정된 환경 변수 확인\n",
    "print(os.environ['MY_CUSTOM_VAR'])\n"
   ]
  },
  {
   "cell_type": "markdown",
   "metadata": {},
   "source": [
    "## 환경 변수 노출의 위험성\n",
    "환경 변수를 간단한 파이썬 프로그램으로 읽어낼 수 있다면, 큰 문제가 아닌가? 프로그램을 누군가에게 제공받는 것은 위험한 일이라는 의미다."
   ]
  },
  {
   "cell_type": "code",
   "execution_count": 23,
   "metadata": {},
   "outputs": [
    {
     "name": "stdout",
     "output_type": "stream",
     "text": [
      "None\n"
     ]
    }
   ],
   "source": [
    "import os\n",
    "print(os.environ.get(\"MY_CUSTOM_VAR\"))  # 노출 위험!"
   ]
  },
  {
   "cell_type": "markdown",
   "metadata": {},
   "source": [
    "## 환경 변수 제거하기"
   ]
  },
  {
   "cell_type": "code",
   "execution_count": 22,
   "metadata": {},
   "outputs": [
    {
     "name": "stdout",
     "output_type": "stream",
     "text": [
      "MY_CUSTOM_VAR: Top Secret_skdrmfkdfjla#fdjfal23\n",
      "Environment variable deleted\n"
     ]
    }
   ],
   "source": [
    "import os\n",
    "\n",
    "if 'MY_CUSTOM_VAR' in os.environ:\n",
    "    print('MY_CUSTOM_VAR:', os.environ['MY_CUSTOM_VAR'])\n",
    "    del os.environ['MY_CUSTOM_VAR']\n",
    "    print('Environment variable deleted')\n",
    "else:\n",
    "    print('MY_CUSTOM_VAR is not set')"
   ]
  },
  {
   "cell_type": "markdown",
   "metadata": {},
   "source": [
    "## 환경 변수 보호를 위해 해당 날짜 시간으로 저장하는 코드"
   ]
  },
  {
   "cell_type": "code",
   "execution_count": 24,
   "metadata": {},
   "outputs": [],
   "source": [
    "# 필요한 모듈 불러오기\n",
    "import os, datetime, json"
   ]
  },
  {
   "cell_type": "code",
   "execution_count": 25,
   "metadata": {},
   "outputs": [],
   "source": [
    "# 환경 변수 이름 - 날짜와 시간 기준\n",
    "env_name = f'env_backup_{datetime.datetime.now().strftime(\"%Y%m%d%H%M%S\")}.json'\n",
    "# print(f'환경 변수 백업 파일명: {env_name}')"
   ]
  },
  {
   "cell_type": "code",
   "execution_count": 27,
   "metadata": {},
   "outputs": [],
   "source": [
    "# 환경 변수 내용을 JSON형식으로 변환\n",
    "env_json = json.dumps(dict(os.environ), indent=4)"
   ]
  },
  {
   "cell_type": "code",
   "execution_count": 28,
   "metadata": {},
   "outputs": [
    {
     "name": "stdout",
     "output_type": "stream",
     "text": [
      "환경 변수 백업 파일 env_backup_20250202151214.json이 생성되었습니다.\n"
     ]
    }
   ],
   "source": [
    "# JSON파일로 저장하기\n",
    "with open(env_name, 'w') as f:\n",
    "    f.write(env_json)\n",
    "print(f'환경 변수 백업 파일 {env_name}이 생성되었습니다.')"
   ]
  }
 ],
 "metadata": {
  "kernelspec": {
   "display_name": "biopy",
   "language": "python",
   "name": "python3"
  },
  "language_info": {
   "codemirror_mode": {
    "name": "ipython",
    "version": 3
   },
   "file_extension": ".py",
   "mimetype": "text/x-python",
   "name": "python",
   "nbconvert_exporter": "python",
   "pygments_lexer": "ipython3",
   "version": "3.12.8"
  }
 },
 "nbformat": 4,
 "nbformat_minor": 2
}
